{
 "cells": [
  {
   "cell_type": "markdown",
   "metadata": {},
   "source": [
    "# Launch Kokoro FastAPI on Google Colab\n",
    "\n",
    "This notebook will fetch the Docker image, launch it, and provide an API URL for use in SillyTavern."
   ]
  },
  {
   "cell_type": "code",
   "execution_count": null,
   "metadata": {},
   "outputs": [],
   "source": [
    "# Install docker-py and pinggy\n",
    "!pip install docker pinggy"
   ]
  },
  {
   "cell_type": "code",
   "execution_count": null,
   "metadata": {},
   "outputs": [],
   "source": [
    "# Import necessary libraries\n",
    "import docker\n",
    "import time\n",
    "from pinggy import Pinggy"
   ]
  },
  {
   "cell_type": "code",
   "execution_count": null,
   "metadata": {},
   "outputs": [],
   "source": [
    "# Initialize Docker client\n",
    "client = docker.from_env()"
   ]
  },
  {
   "cell_type": "code",
   "execution_count": null,
   "metadata": {},
   "outputs": [],
   "source": [
    "# Pull the Docker image\n",
    "image = client.images.pull('ghcr.io/remsky/kokoro-fastapi-cpu:v0.2.2')"
   ]
  },
  {
   "cell_type": "code",
   "execution_count": null,
   "metadata": {},
   "outputs": [],
   "source": [
    "# Run the Docker container\n",
    "container = client.containers.run(\n",
    "    'ghcr.io/remsky/kokoro-fastapi-cpu:v0.2.2',\n",
    "    ports={'8880/tcp': 8880},\n",
    "    detach=True\n",
    ")"
   ]
  },
  {
   "cell_type": "code",
   "execution_count": null,
   "metadata": {},
   "outputs": [],
   "source": [
    "# Wait for the container to start\n",
    "time.sleep(10)  # Adjust the sleep time if necessary"
   ]
  },
  {
   "cell_type": "code",
   "execution_count": null,
   "metadata": {},
   "outputs": [],
   "source": [
    "# Obtain a public URL using Pinggy\n",
    "pinggy = Pinggy()\n",
    "public_url = pinggy.create_tunnel(8880)\n",
    "api_url = public_url['url']\n",
    "print(f'API URL: {api_url}')"
   ]
  }
 ],
 "metadata": {
  "kernelspec": {
   "display_name": "Python 3",
   "language": "python",
   "name": "python3"
  },
  "language_info": {
   "codemirror_mode": {
    "name": "ipython",
    "version": 3
   },
   "file_extension": ".py",
   "mimetype": "text/x-python",
   "name": "python",
   "nbconvert_exporter": "python",
   "pygments_lexer": "ipython3",
   "version": "3.7.12"
  }
 },
 "nbformat": 4,
 "nbformat_minor": 5
}
